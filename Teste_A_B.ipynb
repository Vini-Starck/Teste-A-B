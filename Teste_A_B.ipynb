{
  "nbformat": 4,
  "nbformat_minor": 0,
  "metadata": {
    "colab": {
      "provenance": []
    },
    "kernelspec": {
      "name": "python3",
      "display_name": "Python 3"
    },
    "language_info": {
      "name": "python"
    }
  },
  "cells": [
    {
      "cell_type": "markdown",
      "source": [
        "# Parte 1\n",
        "Aumentar a conversão de um site. De 13% para 16%, com 95%, 99% e 99,99% de confiança. Qual a quantidade N de dados que precisamos? O poder do teste precisa ser testado para 80% e 90%"
      ],
      "metadata": {
        "id": "9BZfkx7Kgjfl"
      }
    },
    {
      "cell_type": "code",
      "source": [
        "# Importando bibliotecas\n",
        "import numpy as np\n",
        "import statsmodels.stats.api as sms\n",
        "from math import ceil\n",
        "\n",
        "# Definindo as taxas de conversão e os níveis de confiança\n",
        "conversao_inicial = 0.13\n",
        "conversao_final = 0.16\n",
        "efeito_esperado = conversao_final - conversao_inicial\n",
        "\n",
        "# Lista de níveis de confiança e poderes do teste\n",
        "niveis_confianca = [0.95, 0.99, 0.9999]\n",
        "poderes_teste = [0.8, 0.9]\n",
        "\n",
        "# Função para calcular o tamanho da amostra para diferentes níveis de confiança e poder\n",
        "for poder in poderes_teste:\n",
        "    print(f\"Poder do teste: {poder * 100}%\")\n",
        "    for conf in niveis_confianca:\n",
        "        alfa = 1 - conf\n",
        "        tamanho_amostra = sms.NormalIndPower().solve_power(\n",
        "            effect_size=sms.proportion_effectsize(conversao_inicial, conversao_final),\n",
        "            power=poder, alpha=alfa, ratio=1\n",
        "        )\n",
        "        tamanho_amostra = ceil(tamanho_amostra)\n",
        "        print(f\"Para {conf * 100}% de confiança, é necessário um tamanho de amostra de: {tamanho_amostra}\")\n",
        "    print(\"\\n\")\n"
      ],
      "metadata": {
        "colab": {
          "base_uri": "https://localhost:8080/"
        },
        "id": "M_w2Bd7VgPTb",
        "outputId": "11e00cec-0161-49f6-a18b-b29b413f4c44"
      },
      "execution_count": 1,
      "outputs": [
        {
          "output_type": "stream",
          "name": "stdout",
          "text": [
            "Poder do teste: 80.0%\n",
            "Para 95.0% de confiança, é necessário um tamanho de amostra de: 2158\n",
            "Para 99.0% de confiança, é necessário um tamanho de amostra de: 3210\n",
            "Para 99.99% de confiança, é necessário um tamanho de amostra de: 6155\n",
            "\n",
            "\n",
            "Poder do teste: 90.0%\n",
            "Para 95.0% de confiança, é necessário um tamanho de amostra de: 2888\n",
            "Para 99.0% de confiança, é necessário um tamanho de amostra de: 4090\n",
            "Para 99.99% de confiança, é necessário um tamanho de amostra de: 7352\n",
            "\n",
            "\n"
          ]
        }
      ]
    },
    {
      "cell_type": "markdown",
      "source": [
        "# Parte 2\n",
        "Em outro experimento, tivemos os seguintes resultados:\n",
        "\n",
        "|-|A - Controle|B - Experimento|\n",
        "|---|---|---|\n",
        "|Convertidos|223|45|\n",
        "|Total|1324|123|\n"
      ],
      "metadata": {
        "id": "LyHXSR51gqJZ"
      }
    },
    {
      "cell_type": "markdown",
      "source": [
        "1. Defina as hipóteses para Qui-Quadrado\n",
        "2. Qual a consequência de um Erro tipo I? E um tipo II?\n",
        "3. Calcule o p-valor do teste chi-quadrado. Aceitamos ou rejeitamos a hipótese nula? Justifique as consequências da escolha\n"
      ],
      "metadata": {
        "id": "-dlVa-ffCX9Q"
      }
    },
    {
      "cell_type": "code",
      "execution_count": 1,
      "metadata": {
        "colab": {
          "base_uri": "https://localhost:8080/"
        },
        "id": "1FtTMbFWgKHU",
        "outputId": "d5a20e6a-88ba-43c5-c2bd-c7536fd0781e"
      },
      "outputs": [
        {
          "output_type": "stream",
          "name": "stdout",
          "text": [
            "P-valor do teste qui-quadrado: 1.3630982508441026e-07\n",
            "Rejeitamos a hipótese nula. Há diferença significativa entre as conversões.\n"
          ]
        }
      ],
      "source": [
        "import scipy.stats as stats\n",
        "\n",
        "# Dados do experimento\n",
        "conversao_controle = 223\n",
        "total_controle = 1324\n",
        "conversao_experimento = 45\n",
        "total_experimento = 123\n",
        "\n",
        "# Criando a tabela de contingência\n",
        "tabela = [\n",
        "    [conversao_controle, total_controle - conversao_controle],\n",
        "    [conversao_experimento, total_experimento - conversao_experimento]\n",
        "]\n",
        "\n",
        "# Executando o teste qui-quadrado\n",
        "chi2, p_valor, _, _ = stats.chi2_contingency(tabela)\n",
        "\n",
        "# Exibindo o p-valor e interpretando o resultado\n",
        "print(f\"P-valor do teste qui-quadrado: {p_valor}\")\n",
        "if p_valor < 0.05:\n",
        "    print(\"Rejeitamos a hipótese nula. Há diferença significativa entre as conversões.\")\n",
        "else:\n",
        "    print(\"Não rejeitamos a hipótese nula. Não há diferença significativa entre as conversões.\")\n"
      ]
    }
  ]
}